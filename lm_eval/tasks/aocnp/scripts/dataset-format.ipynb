{
 "cells": [
  {
   "cell_type": "code",
   "execution_count": 3,
   "id": "a1d81c2c-90e0-4fe8-8bb7-30b425f8e023",
   "metadata": {},
   "outputs": [],
   "source": [
    "from datasets import load_dataset"
   ]
  },
  {
   "cell_type": "code",
   "execution_count": 2,
   "id": "083993fe-4fe0-4d62-9fd6-d8ab6a1bfea1",
   "metadata": {},
   "outputs": [
    {
     "data": {
      "text/plain": [
       "{'instruction': '保持健康的三个提示。',\n",
       " 'input': '',\n",
       " 'output': '以下是保持健康的三个提示：\\n\\n1. 保持身体活动。每天做适当的身体运动，如散步、跑步或游泳，能促进心血管健康，增强肌肉力量，并有助于减少体重。\\n\\n2. 均衡饮食。每天食用新鲜的蔬菜、水果、全谷物和脂肪含量低的蛋白质食物，避免高糖、高脂肪和加工食品，以保持健康的饮食习惯。\\n\\n3. 睡眠充足。睡眠对人体健康至关重要，成年人每天应保证 7-8 小时的睡眠。良好的睡眠有助于减轻压力，促进身体恢复，并提高注意力和记忆力。'}"
      ]
     },
     "execution_count": 2,
     "metadata": {},
     "output_type": "execute_result"
    }
   ],
   "source": [
    "#load reference dataset format that fit for llama-factory SFT trainer. \n",
    "data = load_dataset(\"c-s-ale/alpaca-gpt4-data-zh\")\n",
    "data['train'][0]"
   ]
  },
  {
   "cell_type": "code",
   "execution_count": 3,
   "id": "01fc1e77-f7f0-4ccd-805b-68713ceaed60",
   "metadata": {},
   "outputs": [],
   "source": [
    "#load target dataset, aiming to convert its domain into reference dataset. \n",
    "dataset = load_dataset(\"medmcqa\")"
   ]
  },
  {
   "cell_type": "code",
   "execution_count": 4,
   "id": "c49ab82d-4ecf-4049-a42e-ce7292264463",
   "metadata": {},
   "outputs": [
    {
     "data": {
      "text/plain": [
       "{'id': 'e9ad821a-c438-4965-9f77-760819dfa155',\n",
       " 'question': 'Chronic urethral obstruction due to benign prismatic hyperplasia can lead to the following change in kidney parenchyma',\n",
       " 'opa': 'Hyperplasia',\n",
       " 'opb': 'Hyperophy',\n",
       " 'opc': 'Atrophy',\n",
       " 'opd': 'Dyplasia',\n",
       " 'cop': 2,\n",
       " 'choice_type': 'single',\n",
       " 'exp': 'Chronic urethral obstruction because of urinary calculi, prostatic hyperophy, tumors, normal pregnancy, tumors, uterine prolapse or functional disorders cause hydronephrosis which by definition is used to describe dilatation of renal pelvis and calculus associated with progressive atrophy of the kidney due to obstruction to the outflow of urine Refer Robbins 7yh/9,1012,9/e. P950',\n",
       " 'subject_name': 'Anatomy',\n",
       " 'topic_name': 'Urinary tract',\n",
       " 'ans': 'C'}"
      ]
     },
     "execution_count": 4,
     "metadata": {},
     "output_type": "execute_result"
    }
   ],
   "source": [
    "#convert num label into multi-choice label\n",
    "def label_convert(dataset):\n",
    "    return {'ans': chr(ord('A') + dataset['cop'])} \n",
    "dataset = dataset.map(label_convert)\n",
    "dataset['train'][0]"
   ]
  },
  {
   "cell_type": "code",
   "execution_count": 5,
   "id": "2e66e0d3-1e7f-4fd4-a289-fd5161145698",
   "metadata": {},
   "outputs": [],
   "source": [
    "#check difference between target and reference data formats. config field_config functions. \n",
    "def field_config(dataset):\n",
    "    return {'instruction': f\"\"\"{dataset['question']}: (A) {dataset['opa']}, (B) {dataset['opb']}, (C) {dataset['opc']}, (D) {dataset['opd']}\"\"\", \n",
    "            'input': f\"\"\"\"\"\",\n",
    "            'output': f\"\"\"Answer is {dataset['ans']}. {dataset['exp']}\"\"\"}\n",
    "dataset = dataset.map(field_config)"
   ]
  },
  {
   "cell_type": "code",
   "execution_count": 6,
   "id": "44415992-ff57-4a80-be2e-dec486c43ae1",
   "metadata": {},
   "outputs": [
    {
     "data": {
      "text/plain": [
       "{'instruction': 'Chronic urethral obstruction due to benign prismatic hyperplasia can lead to the following change in kidney parenchyma: (A) Hyperplasia, (B) Hyperophy, (C) Atrophy, (D) Dyplasia',\n",
       " 'input': '',\n",
       " 'output': 'Answer is C. Chronic urethral obstruction because of urinary calculi, prostatic hyperophy, tumors, normal pregnancy, tumors, uterine prolapse or functional disorders cause hydronephrosis which by definition is used to describe dilatation of renal pelvis and calculus associated with progressive atrophy of the kidney due to obstruction to the outflow of urine Refer Robbins 7yh/9,1012,9/e. P950'}"
      ]
     },
     "execution_count": 6,
     "metadata": {},
     "output_type": "execute_result"
    }
   ],
   "source": [
    "dataset = dataset.remove_columns(['id', 'question', 'opa', 'opb', 'opc', 'opd', 'cop', 'choice_type', 'exp', 'subject_name', 'topic_name', 'ans'])\n",
    "dataset['train'][0]"
   ]
  },
  {
   "cell_type": "code",
   "execution_count": 65,
   "id": "a9d879ec-0daf-4a49-8363-fd60d4639e0b",
   "metadata": {},
   "outputs": [
    {
     "data": {
      "application/vnd.jupyter.widget-view+json": {
       "model_id": "1e9b6f017583413eb8bb16407b5ecca8",
       "version_major": 2,
       "version_minor": 0
      },
      "text/plain": [
       "VBox(children=(HTML(value='<center> <img\\nsrc=https://huggingface.co/front/assets/huggingface_logo-noborder.sv…"
      ]
     },
     "metadata": {},
     "output_type": "display_data"
    }
   ],
   "source": [
    "from huggingface_hub import notebook_login; notebook_login()"
   ]
  },
  {
   "cell_type": "code",
   "execution_count": 8,
   "id": "73261774-28c4-4ede-9fa6-46aead75a865",
   "metadata": {},
   "outputs": [
    {
     "data": {
      "application/vnd.jupyter.widget-view+json": {
       "model_id": "54dc6b1a208148dbad51e20086d40a8a",
       "version_major": 2,
       "version_minor": 0
      },
      "text/plain": [
       "Uploading the dataset shards:   0%|          | 0/1 [00:00<?, ?it/s]"
      ]
     },
     "metadata": {},
     "output_type": "display_data"
    },
    {
     "data": {
      "application/vnd.jupyter.widget-view+json": {
       "model_id": "12ec46d530f147a5bafa0fb5dd636600",
       "version_major": 2,
       "version_minor": 0
      },
      "text/plain": [
       "Creating parquet from Arrow format:   0%|          | 0/183 [00:00<?, ?ba/s]"
      ]
     },
     "metadata": {},
     "output_type": "display_data"
    },
    {
     "data": {
      "application/vnd.jupyter.widget-view+json": {
       "model_id": "bcd674f9bfe747f4979f1937230f2dd5",
       "version_major": 2,
       "version_minor": 0
      },
      "text/plain": [
       "Uploading the dataset shards:   0%|          | 0/1 [00:00<?, ?it/s]"
      ]
     },
     "metadata": {},
     "output_type": "display_data"
    },
    {
     "data": {
      "application/vnd.jupyter.widget-view+json": {
       "model_id": "ef8a1d358a7b44b69994d9215af7c901",
       "version_major": 2,
       "version_minor": 0
      },
      "text/plain": [
       "Creating parquet from Arrow format:   0%|          | 0/7 [00:00<?, ?ba/s]"
      ]
     },
     "metadata": {},
     "output_type": "display_data"
    },
    {
     "data": {
      "application/vnd.jupyter.widget-view+json": {
       "model_id": "e7f8061efad1445caa7b66b18f09693b",
       "version_major": 2,
       "version_minor": 0
      },
      "text/plain": [
       "Uploading the dataset shards:   0%|          | 0/1 [00:00<?, ?it/s]"
      ]
     },
     "metadata": {},
     "output_type": "display_data"
    },
    {
     "data": {
      "application/vnd.jupyter.widget-view+json": {
       "model_id": "9989525282964b239533f81d9b6cbfeb",
       "version_major": 2,
       "version_minor": 0
      },
      "text/plain": [
       "Creating parquet from Arrow format:   0%|          | 0/5 [00:00<?, ?ba/s]"
      ]
     },
     "metadata": {},
     "output_type": "display_data"
    },
    {
     "data": {
      "text/plain": [
       "CommitInfo(commit_url='https://huggingface.co/datasets/chenhugging/medmcqa_instruct/commit/7c4a17dc1d4300698d3f117464774d16c99ab31d', commit_message='Upload dataset', commit_description='', oid='7c4a17dc1d4300698d3f117464774d16c99ab31d', pr_url=None, pr_revision=None, pr_num=None)"
      ]
     },
     "execution_count": 8,
     "metadata": {},
     "output_type": "execute_result"
    }
   ],
   "source": [
    "dataset.push_to_hub(\"chenhugging/medmcqa_instruct\")"
   ]
  },
  {
   "cell_type": "code",
   "execution_count": null,
   "id": "a113d17b-d76b-40ea-b875-1687ecad0067",
   "metadata": {},
   "outputs": [],
   "source": []
  },
  {
   "cell_type": "code",
   "execution_count": 2,
   "id": "1c2ec715-ef59-403e-bb98-47bb6be8b027",
   "metadata": {},
   "outputs": [
    {
     "data": {
      "application/vnd.jupyter.widget-view+json": {
       "model_id": "7f7f18629bed40b1a3d52d583ef61985",
       "version_major": 2,
       "version_minor": 0
      },
      "text/plain": [
       "VBox(children=(HTML(value='<center> <img\\nsrc=https://huggingface.co/front/assets/huggingface_logo-noborder.sv…"
      ]
     },
     "metadata": {},
     "output_type": "display_data"
    }
   ],
   "source": [
    "from huggingface_hub import notebook_login; notebook_login()"
   ]
  },
  {
   "cell_type": "code",
   "execution_count": 54,
   "id": "c8a961ac-4157-4dd3-8453-197fb7cd9554",
   "metadata": {},
   "outputs": [],
   "source": [
    "#re-format OCN_ONCC_Practice_test_100 into medmcqa format"
   ]
  },
  {
   "cell_type": "code",
   "execution_count": 2,
   "id": "20fb1f45-db34-4b61-abde-de0af702afc8",
   "metadata": {},
   "outputs": [
    {
     "name": "stdout",
     "output_type": "stream",
     "text": [
      "{'question': 'Prior to receiving an initial dose of daunorubicin, the patient should first receive:', 'options': '{\"A\": an echocardiogram., \"B\": an abdominal ultrasound., \"C\": a urinalysis., \"D\": a lumbar puncture.}', 'answer': 'an echocardiogram.', 'answer_idx': 'A'}\n"
     ]
    }
   ],
   "source": [
    "dataset = load_dataset('json', data_files='./OCN_ONCC_Practice_test_100.jsonl', split='train')\n",
    "print(dataset[0])"
   ]
  },
  {
   "cell_type": "code",
   "execution_count": 58,
   "id": "fa3201a2-c8c6-4f61-9dfc-0841b6e2c390",
   "metadata": {},
   "outputs": [
    {
     "name": "stdout",
     "output_type": "stream",
     "text": [
      "{'input': [{'role': 'system', 'content': 'You are a highly intelligent doctor who answers the following multiple choice question correctly.\\nOnly write the answer down.'}, {'role': 'user', 'content': 'Subject: Anatomy\\n\\nChronic urethral obstruction due to benign prismatic hyperplasia can lead to the following change in kidney parenchyma\\n\\na) Hyperplasia\\nb) Hyperophy\\nc) Atrophy\\nd) Dyplasia'}], 'ideal': 'c) Atrophy'}\n"
     ]
    }
   ],
   "source": [
    "data = load_dataset('json', data_files='./medmcqa_samples.jsonl', split='train')\n",
    "print(data[0])"
   ]
  },
  {
   "cell_type": "code",
   "execution_count": 63,
   "id": "9b0c3aa2-06b0-4b38-86fa-592f76376404",
   "metadata": {},
   "outputs": [
    {
     "data": {
      "text/plain": [
       "Dataset({\n",
       "    features: ['input', 'ideal'],\n",
       "    num_rows: 300\n",
       "})"
      ]
     },
     "execution_count": 63,
     "metadata": {},
     "output_type": "execute_result"
    }
   ],
   "source": [
    "data"
   ]
  },
  {
   "cell_type": "code",
   "execution_count": 3,
   "id": "5d5f613a-5f58-4655-ba7b-90cf5b31ec98",
   "metadata": {},
   "outputs": [],
   "source": [
    "#check difference between target and reference data formats. config field_config functions. \n",
    "def field_config(dataset):\n",
    "    in_1 = {'role': 'system', 'content': 'You are a highly intelligent doctor who answers the following multiple choice question correctly.\\nOnly write the answer down.'}\n",
    "    in_2 = {'role': 'user', 'content': f\"\"\"{dataset['question']} \\n {dataset['options'].replace('{','').replace('}','')}\"\"\" }\n",
    "    return {'input': [in_1, in_2], \n",
    "            'ideal': f\"\"\"{dataset['answer_idx']}\"\"\"\n",
    "           }\n",
    "dataset = dataset.map(field_config)"
   ]
  },
  {
   "cell_type": "code",
   "execution_count": 4,
   "id": "6fca26e4-de4a-4c37-822d-c9355f263057",
   "metadata": {},
   "outputs": [],
   "source": [
    "dataset = dataset.remove_columns(['question', 'options', 'answer', 'answer_idx'])"
   ]
  },
  {
   "cell_type": "code",
   "execution_count": 5,
   "id": "8be542b5-2099-4d46-8b30-dbf1f4b170d4",
   "metadata": {},
   "outputs": [
    {
     "data": {
      "text/plain": [
       "Dataset({\n",
       "    features: ['input', 'ideal'],\n",
       "    num_rows: 100\n",
       "})"
      ]
     },
     "execution_count": 5,
     "metadata": {},
     "output_type": "execute_result"
    }
   ],
   "source": [
    "dataset"
   ]
  },
  {
   "cell_type": "code",
   "execution_count": 6,
   "id": "057dea67-7b97-40a9-91f4-7c2b68a1bf10",
   "metadata": {},
   "outputs": [
    {
     "data": {
      "text/plain": [
       "{'input': [{'content': 'You are a highly intelligent doctor who answers the following multiple choice question correctly.\\nOnly write the answer down.',\n",
       "   'role': 'system'},\n",
       "  {'content': 'Prior to receiving an initial dose of daunorubicin, the patient should first receive: \\n \"A\": an echocardiogram., \"B\": an abdominal ultrasound., \"C\": a urinalysis., \"D\": a lumbar puncture.',\n",
       "   'role': 'user'}],\n",
       " 'ideal': 'A'}"
      ]
     },
     "execution_count": 6,
     "metadata": {},
     "output_type": "execute_result"
    }
   ],
   "source": [
    "dataset[0]"
   ]
  },
  {
   "cell_type": "code",
   "execution_count": null,
   "id": "2fcc6d96-3321-496a-b69d-5d1ed8f39dce",
   "metadata": {},
   "outputs": [],
   "source": [
    "dataset.push_to_hub(\"chenhugging/ocn_oncc_practice_test\")"
   ]
  },
  {
   "cell_type": "code",
   "execution_count": 7,
   "id": "7ad8d9a9-1dc9-4c04-9294-f51e6060f4a5",
   "metadata": {},
   "outputs": [
    {
     "data": {
      "application/vnd.jupyter.widget-view+json": {
       "model_id": "13e9f795ccda40e8a572d2e36b4b9386",
       "version_major": 2,
       "version_minor": 0
      },
      "text/plain": [
       "Saving the dataset (0/1 shards):   0%|          | 0/100 [00:00<?, ? examples/s]"
      ]
     },
     "metadata": {},
     "output_type": "display_data"
    }
   ],
   "source": [
    "dataset.save_to_disk(\"ocn_oncc_practice_test_hf.jsonl\")"
   ]
  },
  {
   "cell_type": "code",
   "execution_count": 8,
   "id": "374ab29e-22d7-411f-b3d7-e7f9e038319a",
   "metadata": {},
   "outputs": [],
   "source": [
    "import json\n",
    "\n",
    "with open('output.jsonl', 'w') as outfile:\n",
    "    for entry in dataset:\n",
    "        json.dump(entry, outfile)\n",
    "        outfile.write('\\n')"
   ]
  },
  {
   "cell_type": "code",
   "execution_count": null,
   "id": "4e7d3442-53d9-4202-ab4f-8158e99fb6ec",
   "metadata": {},
   "outputs": [],
   "source": []
  },
  {
   "cell_type": "code",
   "execution_count": null,
   "id": "841f5f61-86cc-44f9-87bb-f2ddc73eda73",
   "metadata": {},
   "outputs": [],
   "source": []
  },
  {
   "cell_type": "code",
   "execution_count": null,
   "id": "6a6952cb-b437-4f9b-a723-ef4d74e0f247",
   "metadata": {},
   "outputs": [],
   "source": []
  },
  {
   "cell_type": "code",
   "execution_count": null,
   "id": "e0d54dbc-cd8c-458e-8e11-8c0c4382bebc",
   "metadata": {},
   "outputs": [],
   "source": []
  },
  {
   "cell_type": "code",
   "execution_count": null,
   "id": "b63e61e5-3890-4084-8e1b-3ebea11e1f45",
   "metadata": {},
   "outputs": [],
   "source": []
  },
  {
   "cell_type": "code",
   "execution_count": null,
   "id": "606a26d4-7443-4d61-890b-77514ca6d44d",
   "metadata": {},
   "outputs": [],
   "source": []
  },
  {
   "cell_type": "code",
   "execution_count": 10,
   "id": "cc7cb678-250e-471c-aa99-b0e7eb9d882f",
   "metadata": {},
   "outputs": [
    {
     "name": "stdout",
     "output_type": "stream",
     "text": [
      "{'question': 'When discussing the risk associated with radiation-induced subsequent malignant neoplasms, the APRN explains that:', 'options': '{\"A\": risk increases with the amount of tissue treated., \"B\": malignancies usually occur within five years of treatment., \"C\": such malignancies are not likely., \"D\": the age of the radiation equipment matters.}', 'answer': 'risk increases with the amount of tissue treated.', 'answer_idx': 'A'}\n"
     ]
    }
   ],
   "source": [
    "dataset = load_dataset('json', data_files='./AOCNP_ONCC_Practice_test_100.jsonl', split='train')\n",
    "print(dataset[0])"
   ]
  },
  {
   "cell_type": "code",
   "execution_count": 11,
   "id": "60eba288-38a2-411c-9d26-29419be5046f",
   "metadata": {},
   "outputs": [
    {
     "data": {
      "application/vnd.jupyter.widget-view+json": {
       "model_id": "e3a4010d5d5842b0bfe9f208e7126b23",
       "version_major": 2,
       "version_minor": 0
      },
      "text/plain": [
       "Map:   0%|          | 0/100 [00:00<?, ? examples/s]"
      ]
     },
     "metadata": {},
     "output_type": "display_data"
    }
   ],
   "source": [
    "def field_config(dataset):\n",
    "    in_2 = {'role': 'user', 'content': f\"\"\"{dataset['question']} \\n {dataset['options'].replace('{','').replace('}','')}\"\"\" }\n",
    "    return {'input': [in_2], \n",
    "            'ideal': f\"\"\"{dataset['answer_idx']}\"\"\"\n",
    "           }\n",
    "dataset = dataset.map(field_config)"
   ]
  },
  {
   "cell_type": "code",
   "execution_count": 12,
   "id": "28cc1807-d74d-4186-9a75-ec091b1c803e",
   "metadata": {},
   "outputs": [],
   "source": [
    "dataset = dataset.remove_columns(['question', 'options', 'answer', 'answer_idx'])"
   ]
  },
  {
   "cell_type": "code",
   "execution_count": 13,
   "id": "402a65f2-f6fc-466d-aa03-1cdbd67d83a2",
   "metadata": {},
   "outputs": [
    {
     "data": {
      "text/plain": [
       "{'input': [{'content': 'When discussing the risk associated with radiation-induced subsequent malignant neoplasms, the APRN explains that: \\n \"A\": risk increases with the amount of tissue treated., \"B\": malignancies usually occur within five years of treatment., \"C\": such malignancies are not likely., \"D\": the age of the radiation equipment matters.',\n",
       "   'role': 'user'}],\n",
       " 'ideal': 'A'}"
      ]
     },
     "execution_count": 13,
     "metadata": {},
     "output_type": "execute_result"
    }
   ],
   "source": [
    "dataset[0]"
   ]
  },
  {
   "cell_type": "code",
   "execution_count": 14,
   "id": "23a098b9-c404-45b7-b279-eab0b12f4e55",
   "metadata": {},
   "outputs": [],
   "source": [
    "import json\n",
    "\n",
    "with open('output.jsonl', 'w') as outfile:\n",
    "    for entry in dataset:\n",
    "        json.dump(entry, outfile)\n",
    "        outfile.write('\\n')"
   ]
  },
  {
   "cell_type": "code",
   "execution_count": null,
   "id": "6c6fe093-947b-4fd3-b24f-f3c8bd98db09",
   "metadata": {},
   "outputs": [],
   "source": []
  }
 ],
 "metadata": {
  "kernelspec": {
   "display_name": "Python 3 (ipykernel)",
   "language": "python",
   "name": "python3"
  },
  "language_info": {
   "codemirror_mode": {
    "name": "ipython",
    "version": 3
   },
   "file_extension": ".py",
   "mimetype": "text/x-python",
   "name": "python",
   "nbconvert_exporter": "python",
   "pygments_lexer": "ipython3",
   "version": "3.11.6"
  }
 },
 "nbformat": 4,
 "nbformat_minor": 5
}
